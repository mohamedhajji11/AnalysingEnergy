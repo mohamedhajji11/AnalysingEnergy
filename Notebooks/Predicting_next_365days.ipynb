{
 "cells": [
  {
   "cell_type": "code",
   "execution_count": 19,
   "id": "7fd070c3",
   "metadata": {},
   "outputs": [],
   "source": [
    "import pandas as pd\n",
    "import joblib\n",
    "from tensorflow.keras.models import load_model\n",
    "from sklearn.metrics import mean_squared_error\n",
    "import numpy as np\n",
    "import os"
   ]
  },
  {
   "cell_type": "code",
   "execution_count": 20,
   "id": "d2917b03",
   "metadata": {},
   "outputs": [],
   "source": [
    "features = [\n",
    "    \"temp2_max(c)\", \"temp2_min(c)\", \"temp2_ave(c)\", \n",
    "    \"suface_pressure(pa)\", \"wind_speed50_max(m/s)\", \"wind_speed50_min(m/s)\", \n",
    "    \"wind_speed50_ave(m/s)\", \"prectotcorr\", \"total_demand(mw)\"\n",
    "]"
   ]
  },
  {
   "cell_type": "code",
   "execution_count": 27,
   "id": "1f7484c8",
   "metadata": {},
   "outputs": [],
   "source": [
    "data = pd.read_csv(r\"C:\\Users\\Idea\\Documents\\Programming languages\\Python\\Notebooks\\Time Series\\Project_1\\Data\\data.csv\", index_col=\"date\", parse_dates=True)"
   ]
  },
  {
   "cell_type": "code",
   "execution_count": 28,
   "id": "d1ed1ab6",
   "metadata": {},
   "outputs": [
    {
     "data": {
      "text/html": [
       "<div>\n",
       "<style scoped>\n",
       "    .dataframe tbody tr th:only-of-type {\n",
       "        vertical-align: middle;\n",
       "    }\n",
       "\n",
       "    .dataframe tbody tr th {\n",
       "        vertical-align: top;\n",
       "    }\n",
       "\n",
       "    .dataframe thead th {\n",
       "        text-align: right;\n",
       "    }\n",
       "</style>\n",
       "<table border=\"1\" class=\"dataframe\">\n",
       "  <thead>\n",
       "    <tr style=\"text-align: right;\">\n",
       "      <th></th>\n",
       "      <th>temp2_max(c)</th>\n",
       "      <th>temp2_min(c)</th>\n",
       "      <th>temp2_ave(c)</th>\n",
       "      <th>suface_pressure(pa)</th>\n",
       "      <th>wind_speed50_max(m/s)</th>\n",
       "      <th>wind_speed50_min(m/s)</th>\n",
       "      <th>wind_speed50_ave(m/s)</th>\n",
       "      <th>prectotcorr</th>\n",
       "      <th>total_demand(mw)</th>\n",
       "      <th>max_generation(mw)</th>\n",
       "    </tr>\n",
       "    <tr>\n",
       "      <th>date</th>\n",
       "      <th></th>\n",
       "      <th></th>\n",
       "      <th></th>\n",
       "      <th></th>\n",
       "      <th></th>\n",
       "      <th></th>\n",
       "      <th></th>\n",
       "      <th></th>\n",
       "      <th></th>\n",
       "      <th></th>\n",
       "    </tr>\n",
       "  </thead>\n",
       "  <tbody>\n",
       "    <tr>\n",
       "      <th>2018-01-01</th>\n",
       "      <td>24.48</td>\n",
       "      <td>13.78</td>\n",
       "      <td>19.130</td>\n",
       "      <td>101.08</td>\n",
       "      <td>5.05</td>\n",
       "      <td>0.23</td>\n",
       "      <td>2.640</td>\n",
       "      <td>0.00</td>\n",
       "      <td>8000.0</td>\n",
       "      <td>7651.0</td>\n",
       "    </tr>\n",
       "    <tr>\n",
       "      <th>2018-01-02</th>\n",
       "      <td>23.16</td>\n",
       "      <td>15.28</td>\n",
       "      <td>19.220</td>\n",
       "      <td>100.94</td>\n",
       "      <td>6.20</td>\n",
       "      <td>1.59</td>\n",
       "      <td>3.895</td>\n",
       "      <td>0.01</td>\n",
       "      <td>7900.0</td>\n",
       "      <td>7782.0</td>\n",
       "    </tr>\n",
       "    <tr>\n",
       "      <th>2018-01-03</th>\n",
       "      <td>22.65</td>\n",
       "      <td>11.52</td>\n",
       "      <td>17.085</td>\n",
       "      <td>101.12</td>\n",
       "      <td>6.96</td>\n",
       "      <td>3.64</td>\n",
       "      <td>5.300</td>\n",
       "      <td>0.17</td>\n",
       "      <td>7900.0</td>\n",
       "      <td>7707.0</td>\n",
       "    </tr>\n",
       "    <tr>\n",
       "      <th>2018-01-04</th>\n",
       "      <td>20.32</td>\n",
       "      <td>8.19</td>\n",
       "      <td>14.255</td>\n",
       "      <td>101.34</td>\n",
       "      <td>5.91</td>\n",
       "      <td>1.54</td>\n",
       "      <td>3.725</td>\n",
       "      <td>0.34</td>\n",
       "      <td>8000.0</td>\n",
       "      <td>7715.0</td>\n",
       "    </tr>\n",
       "    <tr>\n",
       "      <th>2018-01-05</th>\n",
       "      <td>20.79</td>\n",
       "      <td>8.24</td>\n",
       "      <td>14.515</td>\n",
       "      <td>101.17</td>\n",
       "      <td>6.02</td>\n",
       "      <td>3.09</td>\n",
       "      <td>4.555</td>\n",
       "      <td>0.00</td>\n",
       "      <td>7200.0</td>\n",
       "      <td>6926.0</td>\n",
       "    </tr>\n",
       "  </tbody>\n",
       "</table>\n",
       "</div>"
      ],
      "text/plain": [
       "            temp2_max(c)  temp2_min(c)  temp2_ave(c)  suface_pressure(pa)  \\\n",
       "date                                                                        \n",
       "2018-01-01         24.48         13.78        19.130               101.08   \n",
       "2018-01-02         23.16         15.28        19.220               100.94   \n",
       "2018-01-03         22.65         11.52        17.085               101.12   \n",
       "2018-01-04         20.32          8.19        14.255               101.34   \n",
       "2018-01-05         20.79          8.24        14.515               101.17   \n",
       "\n",
       "            wind_speed50_max(m/s)  wind_speed50_min(m/s)  \\\n",
       "date                                                       \n",
       "2018-01-01                   5.05                   0.23   \n",
       "2018-01-02                   6.20                   1.59   \n",
       "2018-01-03                   6.96                   3.64   \n",
       "2018-01-04                   5.91                   1.54   \n",
       "2018-01-05                   6.02                   3.09   \n",
       "\n",
       "            wind_speed50_ave(m/s)  prectotcorr  total_demand(mw)  \\\n",
       "date                                                               \n",
       "2018-01-01                  2.640         0.00            8000.0   \n",
       "2018-01-02                  3.895         0.01            7900.0   \n",
       "2018-01-03                  5.300         0.17            7900.0   \n",
       "2018-01-04                  3.725         0.34            8000.0   \n",
       "2018-01-05                  4.555         0.00            7200.0   \n",
       "\n",
       "            max_generation(mw)  \n",
       "date                            \n",
       "2018-01-01              7651.0  \n",
       "2018-01-02              7782.0  \n",
       "2018-01-03              7707.0  \n",
       "2018-01-04              7715.0  \n",
       "2018-01-05              6926.0  "
      ]
     },
     "execution_count": 28,
     "metadata": {},
     "output_type": "execute_result"
    }
   ],
   "source": [
    "data.head()"
   ]
  },
  {
   "cell_type": "code",
   "execution_count": 22,
   "id": "46580b31",
   "metadata": {},
   "outputs": [],
   "source": [
    "lag = 1"
   ]
  },
  {
   "cell_type": "code",
   "execution_count": 16,
   "id": "e53d0424",
   "metadata": {},
   "outputs": [
    {
     "name": "stderr",
     "output_type": "stream",
     "text": [
      "WARNING:absl:Compiled the loaded model, but the compiled metrics have yet to be built. `model.compile_metrics` will be empty until you train or evaluate the model.\n"
     ]
    },
    {
     "name": "stdout",
     "output_type": "stream",
     "text": [
      "Predicting future values for feature: temp2_max(c)\n"
     ]
    },
    {
     "name": "stderr",
     "output_type": "stream",
     "text": [
      "WARNING:absl:Compiled the loaded model, but the compiled metrics have yet to be built. `model.compile_metrics` will be empty until you train or evaluate the model.\n"
     ]
    },
    {
     "name": "stdout",
     "output_type": "stream",
     "text": [
      "Predicting future values for feature: temp2_min(c)\n"
     ]
    },
    {
     "name": "stderr",
     "output_type": "stream",
     "text": [
      "WARNING:absl:Compiled the loaded model, but the compiled metrics have yet to be built. `model.compile_metrics` will be empty until you train or evaluate the model.\n"
     ]
    },
    {
     "name": "stdout",
     "output_type": "stream",
     "text": [
      "Predicting future values for feature: temp2_ave(c)\n"
     ]
    },
    {
     "name": "stderr",
     "output_type": "stream",
     "text": [
      "WARNING:absl:Compiled the loaded model, but the compiled metrics have yet to be built. `model.compile_metrics` will be empty until you train or evaluate the model.\n"
     ]
    },
    {
     "name": "stdout",
     "output_type": "stream",
     "text": [
      "Predicting future values for feature: suface_pressure(pa)\n"
     ]
    },
    {
     "name": "stderr",
     "output_type": "stream",
     "text": [
      "WARNING:absl:Compiled the loaded model, but the compiled metrics have yet to be built. `model.compile_metrics` will be empty until you train or evaluate the model.\n"
     ]
    },
    {
     "name": "stdout",
     "output_type": "stream",
     "text": [
      "Predicting future values for feature: wind_speed50_max(m/s)\n"
     ]
    },
    {
     "name": "stderr",
     "output_type": "stream",
     "text": [
      "WARNING:absl:Compiled the loaded model, but the compiled metrics have yet to be built. `model.compile_metrics` will be empty until you train or evaluate the model.\n"
     ]
    },
    {
     "name": "stdout",
     "output_type": "stream",
     "text": [
      "Predicting future values for feature: wind_speed50_min(m/s)\n"
     ]
    },
    {
     "name": "stderr",
     "output_type": "stream",
     "text": [
      "WARNING:absl:Compiled the loaded model, but the compiled metrics have yet to be built. `model.compile_metrics` will be empty until you train or evaluate the model.\n"
     ]
    },
    {
     "name": "stdout",
     "output_type": "stream",
     "text": [
      "Predicting future values for feature: wind_speed50_ave(m/s)\n"
     ]
    },
    {
     "name": "stderr",
     "output_type": "stream",
     "text": [
      "WARNING:absl:Compiled the loaded model, but the compiled metrics have yet to be built. `model.compile_metrics` will be empty until you train or evaluate the model.\n"
     ]
    },
    {
     "name": "stdout",
     "output_type": "stream",
     "text": [
      "Predicting future values for feature: prectotcorr\n"
     ]
    },
    {
     "name": "stderr",
     "output_type": "stream",
     "text": [
      "WARNING:absl:Compiled the loaded model, but the compiled metrics have yet to be built. `model.compile_metrics` will be empty until you train or evaluate the model.\n"
     ]
    },
    {
     "name": "stdout",
     "output_type": "stream",
     "text": [
      "Predicting future values for feature: total_demand(mw)\n",
      "Future predictions saved to 'future_predictions.csv'\n"
     ]
    }
   ],
   "source": [
    "# Create a new dataframe to store predictions for the next 365 days\n",
    "future_predictions = pd.DataFrame(index=pd.date_range(start=data.index[-1] + pd.Timedelta(days=1), periods=365, freq='D'))\n",
    "\n",
    "scalers_dir = r\"C:\\Users\\Idea\\Documents\\Programming languages\\Python\\Notebooks\\Time Series\\Project_1\\Notebooks\\scalers\"\n",
    "\n",
    "model_dir = r\"C:\\Users\\Idea\\Documents\\Programming languages\\Python\\Notebooks\\Time Series\\Project_1\\Notebooks\\models\"\n",
    "\n",
    "\n",
    "# Loop through each feature\n",
    "for feature in features:\n",
    "    print(f\"Predicting future values for feature: {feature}\")\n",
    "    \n",
    "    # Load the saved scaler and model\n",
    "    # Load the pre-fitted scaler for the current feature\n",
    "    scaler_path = os.path.join(scalers_dir, f\"{feature.replace('/', '')}_scaler.pkl\")\n",
    "    with open(scaler_path, 'rb') as f:\n",
    "        scaler = joblib.load(f)\n",
    "\n",
    "    model_path = os.path.join(model_dir, f\"{feature.replace('/', '')}_LSTM.h5\")\n",
    "    model = load_model(model_path, custom_objects={'mse': mean_squared_error})\n",
    "    \n",
    "    # Get the last lagged values from the test data\n",
    "    last_values = data[[feature]].iloc[-lag:].values\n",
    "    scaled_last_values = scaler.transform(last_values)\n",
    "    \n",
    "    # Predict the next 365 days\n",
    "    predictions = []\n",
    "    for _ in range(365):\n",
    "        # Reshape the input to match the model's expected input shape\n",
    "        input_data = scaled_last_values[-lag:].reshape((1, lag, 1))\n",
    "        \n",
    "        # Predict the next value\n",
    "        next_prediction = model.predict(input_data, verbose=0)\n",
    "        \n",
    "        # Inverse transform the prediction to get the original scale\n",
    "        next_prediction_original = scaler.inverse_transform(next_prediction)\n",
    "        predictions.append(next_prediction_original[0, 0])\n",
    "        \n",
    "        # Append the prediction to the scaled_last_values for the next iteration\n",
    "        scaled_last_values = np.append(scaled_last_values, next_prediction, axis=0)\n",
    "    \n",
    "    # Add the predictions to the future_predictions dataframe\n",
    "    future_predictions[feature] = predictions"
   ]
  },
  {
   "cell_type": "code",
   "execution_count": 36,
   "id": "9220fb0d",
   "metadata": {},
   "outputs": [
    {
     "name": "stderr",
     "output_type": "stream",
     "text": [
      "WARNING:absl:Compiled the loaded model, but the compiled metrics have yet to be built. `model.compile_metrics` will be empty until you train or evaluate the model.\n"
     ]
    }
   ],
   "source": [
    "# Load the saved model\n",
    "model = load_model(r\"C:\\Users\\Idea\\Documents\\Programming languages\\Python\\Notebooks\\Time Series\\Project_1\\Notebooks\\models\\final_model 291.19.h5\", custom_objects={'mse': mean_squared_error})\n",
    "\n",
    "# Prepare the test data\n",
    "y_test = data[\"max_generation(mw)\"]\n",
    "X_test = data.drop(columns=[\"total_demand(mw)\"])\n",
    "\n",
    "# Fit the scalers on the training data (you need to ensure the same scaling as the original notebook)\n",
    "scaler_X=joblib.load(\"X_train_scaler.pkl\")\n",
    "scaler_y=joblib.load(\"y_train_scaler.pkl\")\n",
    "\n",
    "X_test_scaled = scaler_X.transform(X_test)\n",
    "y_test_scaled = scaler_y.transform(y_test.values.reshape(-1, 1))\n",
    "\n",
    "# Reshape X_test_scaled to match the expected input shape\n",
    "n_input = 1  # Same as defined in the original notebook\n",
    "n_features = X_test.shape[1]\n",
    "X_test_scaled_reshaped = X_test_scaled.reshape((X_test_scaled.shape[0], n_input, n_features))\n",
    "\n",
    "# Predict and inverse transform the predictions\n",
    "y_pred_scaled = model.predict(X_test_scaled_reshaped[-365:], verbose=0)\n",
    "y_pred = scaler_y.inverse_transform(y_pred_scaled)"
   ]
  },
  {
   "cell_type": "code",
   "execution_count": 37,
   "id": "60b4b36a",
   "metadata": {},
   "outputs": [
    {
     "data": {
      "text/plain": [
       "365"
      ]
     },
     "execution_count": 37,
     "metadata": {},
     "output_type": "execute_result"
    }
   ],
   "source": [
    "len(future_predictions)"
   ]
  },
  {
   "cell_type": "code",
   "execution_count": 38,
   "id": "1814bec2",
   "metadata": {},
   "outputs": [
    {
     "data": {
      "text/plain": [
       "365"
      ]
     },
     "execution_count": 38,
     "metadata": {},
     "output_type": "execute_result"
    }
   ],
   "source": [
    "len(y_pred)"
   ]
  },
  {
   "cell_type": "code",
   "execution_count": 39,
   "id": "af294da6",
   "metadata": {},
   "outputs": [],
   "source": [
    "future_predictions[\"max_generation(mw)\"] = y_pred"
   ]
  },
  {
   "cell_type": "code",
   "execution_count": 40,
   "id": "dca808ff",
   "metadata": {},
   "outputs": [
    {
     "name": "stdout",
     "output_type": "stream",
     "text": [
      "Future predictions saved to 'future_predictions.csv'\n"
     ]
    }
   ],
   "source": [
    "# Save the future predictions to a new dataframe\n",
    "future_predictions.to_csv(\"future_predictions.csv\", index=True)\n",
    "print(\"Future predictions saved to 'future_predictions.csv'\")"
   ]
  }
 ],
 "metadata": {
  "kernelspec": {
   "display_name": "TensorFlow",
   "language": "python",
   "name": "python3"
  },
  "language_info": {
   "codemirror_mode": {
    "name": "ipython",
    "version": 3
   },
   "file_extension": ".py",
   "mimetype": "text/x-python",
   "name": "python",
   "nbconvert_exporter": "python",
   "pygments_lexer": "ipython3",
   "version": "3.11.11"
  }
 },
 "nbformat": 4,
 "nbformat_minor": 5
}
